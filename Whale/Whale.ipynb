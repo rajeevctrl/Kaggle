{
 "cells": [
  {
   "cell_type": "markdown",
   "metadata": {},
   "source": [
    "Load libraries"
   ]
  },
  {
   "cell_type": "code",
   "execution_count": 145,
   "metadata": {},
   "outputs": [],
   "source": [
    "import cv2\n",
    "import matplotlib.pyplot as plt\n",
    "import numpy as np\n",
    "import os\n",
    "import csv\n",
    "import random\n",
    "import sys\n",
    "import math\n",
    "from sklearn.preprocessing import OneHotEncoder\n",
    "from sklearn.preprocessing import LabelEncoder\n",
    "from keras.utils import np_utils\n",
    "from keras.layers import MaxPooling3D\n",
    "\n",
    "\n",
    "%matplotlib inline\n",
    "%config IPCompleter.greedy=True"
   ]
  },
  {
   "cell_type": "markdown",
   "metadata": {},
   "source": [
    "# Preprocessing:\n",
    "\n",
    "\n",
    "Load images and change their height and width to a smaller scale so that it is efficient while computing."
   ]
  },
  {
   "cell_type": "code",
   "execution_count": 146,
   "metadata": {},
   "outputs": [],
   "source": [
    "imageShape=(32,32)\n",
    "\n",
    "root_folder=\"/home/rajeev/Documents/DataSets/Kaggle/Whale\"\n",
    "root_train=root_folder+\"/train/\"\n",
    "root_test=root_folder+\"/test/\"\n",
    "\n",
    "def readFormattedImages(rootFolder,imageShape):\n",
    "    '''\n",
    "    This function reads all the images in specified 'rootFolder' and converts them to new shape of 'imageShape'\n",
    "    \n",
    "    Returns: \n",
    "        X_images: Ndarray of shape(image count, image height, image width, channels)\n",
    "        labels: A list consisting of names of each image. Name contains .jpg as well.\n",
    "    '''\n",
    "    img_names=os.listdir(rootFolder)\n",
    "    #Read images and convert them to square of shape(image_height,image_width,3)\n",
    "    images=[]\n",
    "    labels=[]\n",
    "    for img_name in img_names:\n",
    "        img=cv2.imread(rootFolder+img_name,cv2.IMREAD_GRAYSCALE)\n",
    "        img=cv2.resize(img,imageShape)\n",
    "        images.append(img)\n",
    "        labels.append(img_name)\n",
    "    X_images=np.reshape(images,(len(images),imageShape[0],imageShape[1]))\n",
    "    return X_images,labels\n"
   ]
  },
  {
   "cell_type": "markdown",
   "metadata": {},
   "source": [
    "Create a function for maxpooling. This function takes a kernel size and stride and for each kernel operation performs max pooling."
   ]
  },
  {
   "cell_type": "code",
   "execution_count": 147,
   "metadata": {},
   "outputs": [],
   "source": [
    "def maxPool(ndArray,kernel=(2,2),stride=(2,2),poolingMethod=\"max\"):\n",
    "    #print(\"img shape\",ndArray.shape)\n",
    "    m,n=ndArray.shape\n",
    "    maxList=[]\n",
    "    #print(list(range(0,n,stride[0])))\n",
    "    for i in range(0,m,stride[0]):\n",
    "        for j in range(0,n,stride[1]):        \n",
    "            subArr=ndArray[i:i+kernel[0],j:j+kernel[1]]\n",
    "            #print(i,j,subArr)\n",
    "            pooledValue=0\n",
    "            if(poolingMethod=='max'):\n",
    "                pooledValue=subArr.max()\n",
    "            elif(poolingMethod=='min'):\n",
    "                pooledValue=subArr.min()\n",
    "            elif(poolingMethod=='mean'):\n",
    "                pooledValue=subArr.mean()\n",
    "            maxList.append(pooledValue)\n",
    "    outputHeight=int(((m-kernel[0])/stride[0])+1)\n",
    "    outputWidth=int(((n-kernel[1])/stride[1])+1)\n",
    "    outputArr=np.reshape(maxList,(outputHeight,outputWidth))\n",
    "    return outputArr\n",
    "            "
   ]
  },
  {
   "cell_type": "markdown",
   "metadata": {},
   "source": [
    "Now load mappings between image name and image id from train.csv file."
   ]
  },
  {
   "cell_type": "code",
   "execution_count": 148,
   "metadata": {},
   "outputs": [
    {
     "name": "stdout",
     "output_type": "stream",
     "text": [
      "Created numeric indicies for image ids  4252\n"
     ]
    }
   ],
   "source": [
    "#id_to_name=dict()\n",
    "name_to_id=dict()\n",
    "count=0\n",
    "with open(root_folder+\"/train.csv\", newline='') as csvFile:\n",
    "    idReader = csv.reader(csvFile, delimiter=',', quotechar='|')\n",
    "    for row in idReader:\n",
    "        #id_to_name[row[1]]=row[0]\n",
    "        name_to_id[row[0]]=row[1]\n",
    "        count+=1\n",
    "id_to_int=dict()\n",
    "index=0\n",
    "for id_x in name_to_id.values():\n",
    "    if id_x not in id_to_int:\n",
    "        id_to_int[id_x]=index\n",
    "        index += 1\n",
    "int_to_id=dict((intVal,imgID) for imgID,intVal in id_to_int.items())\n",
    "print(\"Created numeric indicies for image ids \",len(id_to_int))"
   ]
  },
  {
   "cell_type": "markdown",
   "metadata": {},
   "source": [
    "Load train and test images."
   ]
  },
  {
   "cell_type": "code",
   "execution_count": 149,
   "metadata": {},
   "outputs": [
    {
     "name": "stdout",
     "output_type": "stream",
     "text": [
      "9850 training images and  9850  training labels\n",
      "15610 test images\n"
     ]
    }
   ],
   "source": [
    "X_train,X_train_labels=readFormattedImages(root_train,imageShape)\n",
    "print(len(X_train),\"training images and \",len(X_train_labels),\" training labels\")\n",
    "X_test,X_test_labels=readFormattedImages(root_test,imageShape)\n",
    "print(len(X_test),\"test images\")\n"
   ]
  },
  {
   "cell_type": "markdown",
   "metadata": {},
   "source": [
    "Convert labels from image names to image ids. Use 'name_to_id' dictionary for this conversion."
   ]
  },
  {
   "cell_type": "code",
   "execution_count": 150,
   "metadata": {},
   "outputs": [
    {
     "name": "stdout",
     "output_type": "stream",
     "text": [
      "X_train (9850, 32, 32)\n",
      "Y_train (9850, 4252)\n"
     ]
    }
   ],
   "source": [
    "#Convert labels from image names to image ids.\n",
    "X_train_ids=[id_to_int[name_to_id[name]] for name in X_train_labels]\n",
    "X_train_ids=np.array(X_train_ids)\n",
    "#print(X_train_ids)\n",
    "#print(X_train_ids.shape,min(X_train_ids))\n",
    "\n",
    "Y_train=np.zeros(shape=(X_train_ids.shape[0],max(X_train_ids)+1))\n",
    "Y_train[np.arange(X_train_ids.shape[0]),X_train_ids]=1.0\n",
    "#print(len(X_train_labels),len(X_train_ids))\n",
    "#print(Y_train.shape)\n",
    "#print(max(Y_train[0,:]))\n",
    "print(\"X_train\",X_train.shape)\n",
    "print(\"Y_train\",Y_train.shape)"
   ]
  },
  {
   "cell_type": "code",
   "execution_count": 151,
   "metadata": {},
   "outputs": [
    {
     "name": "stdout",
     "output_type": "stream",
     "text": [
      "Binarized X_train.shape (9850, 32, 32)\n",
      "Binarized X_test.shape (15610, 32, 32)\n",
      "show binarized train img samples.\n"
     ]
    },
    {
     "data": {
      "image/png": "[encoded data removed]",
      "text/plain": [
       "<matplotlib.figure.Figure at 0x7f3f9eaea5f8>"
      ]
     },
     "metadata": {},
     "output_type": "display_data"
    },
    {
     "data": {
      "image/png": "[encoded data removed]",
      "text/plain": [
       "<matplotlib.figure.Figure at 0x7f3fa382e7b8>"
      ]
     },
     "metadata": {},
     "output_type": "display_data"
    },
    {
     "data": {
      "image/png": "[encoded data removed]",
      "text/plain": [
       "<matplotlib.figure.Figure at 0x7f3fa1766860>"
      ]
     },
     "metadata": {},
     "output_type": "display_data"
    },
    {
     "data": {
      "image/png": "[encoded data removed]",
      "text/plain": [
       "<matplotlib.figure.Figure at 0x7f3fe40a0d30>"
      ]
     },
     "metadata": {},
     "output_type": "display_data"
    },
    {
     "data": {
      "image/png": "[encoded data removed]",
      "text/plain": [
       "<matplotlib.figure.Figure at 0x7f3fe011b630>"
      ]
     },
     "metadata": {},
     "output_type": "display_data"
    },
    {
     "name": "stdout",
     "output_type": "stream",
     "text": [
      "show binarized test img samples.\n"
     ]
    },
    {
     "data": {
      "image/png": "[encoded data removed]",
      "text/plain": [
       "<matplotlib.figure.Figure at 0x7f3fa349b898>"
      ]
     },
     "metadata": {},
     "output_type": "display_data"
    },
    {
     "data": {
      "image/png": "[encoded data removed]",
      "text/plain": [
       "<matplotlib.figure.Figure at 0x7f3fa09876a0>"
      ]
     },
     "metadata": {},
     "output_type": "display_data"
    },
    {
     "data": {
      "image/png": "[encoded data removed]",
      "text/plain": [
       "<matplotlib.figure.Figure at 0x7f3fe33f3208>"
      ]
     },
     "metadata": {},
     "output_type": "display_data"
    },
    {
     "data": {
      "image/png": "[encoded data removed]",
      "text/plain": [
       "<matplotlib.figure.Figure at 0x7f3fa3042358>"
      ]
     },
     "metadata": {},
     "output_type": "display_data"
    },
    {
     "data": {
      "image/png": "[encoded data removed]",
      "text/plain": [
       "<matplotlib.figure.Figure at 0x7f3fa3039160>"
      ]
     },
     "metadata": {},
     "output_type": "display_data"
    }
   ],
   "source": [
    "def binarizeImgs(imgNDArray):\n",
    "    output=[]\n",
    "    for img in imgNDArray:\n",
    "        th=cv2.adaptiveThreshold(img,255,cv2.ADAPTIVE_THRESH_GAUSSIAN_C,cv2.THRESH_BINARY,11,16)\n",
    "        output.append(th)\n",
    "    output=np.array(output)\n",
    "    output=np.reshape(output,imgNDArray.shape)\n",
    "    return output\n",
    "\n",
    "X_train_bin=binarizeImgs(X_train)\n",
    "X_test_bin=binarizeImgs(X_test)\n",
    "print(\"Binarized X_train.shape\",X_train_bin.shape)\n",
    "print(\"Binarized X_test.shape\",X_test_bin.shape)\n",
    "\n",
    "\n",
    "print(\"show binarized train img samples.\")\n",
    "for img in X_train_bin[:5]:\n",
    "    plt.imshow(img,cmap=\"gray\")\n",
    "    plt.show()\n",
    "    \n",
    "print(\"show binarized test img samples.\")\n",
    "for img in X_test_bin[:5]:\n",
    "    plt.imshow(img,cmap=\"gray\")\n",
    "    plt.show()\n"
   ]
  },
  {
   "cell_type": "markdown",
   "metadata": {},
   "source": [
    "Now scale values of images by dividing all values by 255.\n",
    "Also convert training labels to one hot encoded format."
   ]
  },
  {
   "cell_type": "code",
   "execution_count": 152,
   "metadata": {},
   "outputs": [
    {
     "name": "stdout",
     "output_type": "stream",
     "text": [
      "X_train (9850, 32, 32)\n",
      "Y_train (9850, 4252)\n"
     ]
    }
   ],
   "source": [
    "#X_train=X_train_bin\n",
    "#X_test=X_test_bin\n",
    "\n",
    "X_train=X_train/255\n",
    "X_test=X_test/255\n",
    "\n",
    "print(\"X_train\",X_train.shape)\n",
    "print(\"Y_train\",Y_train.shape)"
   ]
  },
  {
   "cell_type": "markdown",
   "metadata": {},
   "source": [
    "Now do max pooling of images."
   ]
  },
  {
   "cell_type": "code",
   "execution_count": 153,
   "metadata": {},
   "outputs": [
    {
     "name": "stdout",
     "output_type": "stream",
     "text": [
      "Max pooling train imgs\n",
      "Train: before pooling shape (9850, 32, 32)\n",
      "Maxpooled 0 / 9850 imgs\n",
      "Maxpooled 1000 / 9850 imgs\n",
      "Maxpooled 2000 / 9850 imgs\n",
      "Maxpooled 3000 / 9850 imgs\n",
      "Maxpooled 4000 / 9850 imgs\n",
      "Maxpooled 5000 / 9850 imgs\n",
      "Maxpooled 6000 / 9850 imgs\n",
      "Maxpooled 7000 / 9850 imgs\n",
      "Maxpooled 8000 / 9850 imgs\n",
      "Maxpooled 9000 / 9850 imgs\n",
      "Train: after pooling shape (9850, 8, 8)\n",
      "Max pooling test imgs\n",
      "Test: before pooling shape (15610, 32, 32)\n",
      "Maxpooled 0 / 9850 imgs\n",
      "Maxpooled 1000 / 9850 imgs\n",
      "Maxpooled 2000 / 9850 imgs\n",
      "Maxpooled 3000 / 9850 imgs\n",
      "Maxpooled 4000 / 9850 imgs\n",
      "Maxpooled 5000 / 9850 imgs\n",
      "Maxpooled 6000 / 9850 imgs\n",
      "Maxpooled 7000 / 9850 imgs\n",
      "Maxpooled 8000 / 9850 imgs\n",
      "Maxpooled 9000 / 9850 imgs\n",
      "Maxpooled 10000 / 9850 imgs\n",
      "Maxpooled 11000 / 9850 imgs\n",
      "Maxpooled 12000 / 9850 imgs\n",
      "Maxpooled 13000 / 9850 imgs\n",
      "Maxpooled 14000 / 9850 imgs\n",
      "Maxpooled 15000 / 9850 imgs\n",
      "Test: after pooling shape (15610, 8, 8)\n"
     ]
    }
   ],
   "source": [
    "def maxPoolImgList(imgList,outputShape,kernel,stride,poolingMethod=\"max\"):\n",
    "    '''\n",
    "    Params:\n",
    "    imgList: Numpy array of images.\n",
    "    outputShape: shape of output image list.\n",
    "    kernel: 2-D kernel.\n",
    "    stride: 2-D stride.\n",
    "    \n",
    "    Returns:\n",
    "    pooledImgs: Numpy array of pooled images. Shape of 'pooledImgs'=outputShape\n",
    "    '''\n",
    "    pooledImgs=[]\n",
    "    for index,img in enumerate(imgList):\n",
    "        pooledImg=None\n",
    "        if(outputShape[-1]==3):\n",
    "            r=maxPool(img[:,:,0],kernel,stride,poolingMethod)\n",
    "            g=maxPool(img[:,:,1],kernel,stride,poolingMethod)\n",
    "            b=maxPool(img[:,:,2],kernel,stride,poolingMethod)\n",
    "            maxPooledImg=np.dstack((r,g,b))\n",
    "        else:\n",
    "            maxPooledImg=maxPool(img,kernel,stride,poolingMethod)\n",
    "        #print(maxPooledImg.shape)\n",
    "        pooledImgs.append(maxPooledImg)\n",
    "        if(index%1000==0):\n",
    "            print(\"Maxpooled\",index,\"/\",X_train.shape[0],\"imgs\")    \n",
    "    pooledImgs=np.array(pooledImgs)\n",
    "    pooledImgs=np.reshape(pooledImgs,outputShape)\n",
    "    return pooledImgs\n",
    "\n",
    "print(\"Max pooling train imgs\")\n",
    "#X_train_maxpooled=[maxPool(img,kernel=(4,4),stride=(4,4)) for img in X_train]\n",
    "#X_train_maxpooled=np.reshape(X_train_maxpooled,(8,8))\n",
    "poolingMethod=\"max\"\n",
    "print(\"Train: before pooling shape\",X_train.shape)\n",
    "outputShapeTrain=(X_train.shape[0],8,8)\n",
    "X_train_pooled=maxPoolImgList(X_train,outputShapeTrain,kernel=(4,4),stride=(4,4),poolingMethod=poolingMethod)\n",
    "print(\"Train: after pooling shape\",X_train_pooled.shape)\n",
    "\n",
    "print(\"Max pooling test imgs\")\n",
    "print(\"Test: before pooling shape\",X_test.shape)\n",
    "outputShapeTest=(X_test.shape[0],8,8)\n",
    "X_test_pooled=maxPoolImgList(X_test,outputShapeTest,kernel=(4,4),stride=(4,4),poolingMethod=poolingMethod)\n",
    "print(\"Test: after pooling shape\",X_test_pooled.shape)"
   ]
  },
  {
   "cell_type": "markdown",
   "metadata": {},
   "source": [
    "Use pooled images as actual train and test images."
   ]
  },
  {
   "cell_type": "code",
   "execution_count": 154,
   "metadata": {},
   "outputs": [
    {
     "data": {
      "image/png": "[encoded data removed]",
      "text/plain": [
       "<matplotlib.figure.Figure at 0x7f3f9e37dd30>"
      ]
     },
     "metadata": {},
     "output_type": "display_data"
    },
    {
     "data": {
      "image/png": "[encoded data removed]",
      "text/plain": [
       "<matplotlib.figure.Figure at 0x7f3fa0eb8b70>"
      ]
     },
     "metadata": {},
     "output_type": "display_data"
    },
    {
     "data": {
      "image/png": "[encoded data removed]",
      "text/plain": [
       "<matplotlib.figure.Figure at 0x7f3fe2037320>"
      ]
     },
     "metadata": {},
     "output_type": "display_data"
    },
    {
     "data": {
      "image/png": "[encoded data removed]",
      "text/plain": [
       "<matplotlib.figure.Figure at 0x7f3fa3703c50>"
      ]
     },
     "metadata": {},
     "output_type": "display_data"
    },
    {
     "data": {
      "image/png": "[encoded data removed]",
      "text/plain": [
       "<matplotlib.figure.Figure at 0x7f4055acd9e8>"
      ]
     },
     "metadata": {},
     "output_type": "display_data"
    },
    {
     "data": {
      "image/png": "[encoded data removed]",
      "text/plain": [
       "<matplotlib.figure.Figure at 0x7f3fa1766c50>"
      ]
     },
     "metadata": {},
     "output_type": "display_data"
    },
    {
     "data": {
      "image/png": "[encoded data removed]",
      "text/plain": [
       "<matplotlib.figure.Figure at 0x7f3fa382e8d0>"
      ]
     },
     "metadata": {},
     "output_type": "display_data"
    },
    {
     "data": {
      "image/png": "[encoded data removed]",
      "text/plain": [
       "<matplotlib.figure.Figure at 0x7f3f9e37f860>"
      ]
     },
     "metadata": {},
     "output_type": "display_data"
    },
    {
     "data": {
      "image/png": "[encoded data removed]",
      "text/plain": [
       "<matplotlib.figure.Figure at 0x7f3fe3ff1908>"
      ]
     },
     "metadata": {},
     "output_type": "display_data"
    },
    {
     "data": {
      "image/png": "[encoded data removed]",
      "text/plain": [
       "<matplotlib.figure.Figure at 0x7f3fe3b49cc0>"
      ]
     },
     "metadata": {},
     "output_type": "display_data"
    }
   ],
   "source": [
    "\n",
    "for img in X_train_pooled[:10]:\n",
    "    #print(img)\n",
    "    plt.imshow(img,cmap=\"gray\")\n",
    "    plt.show()"
   ]
  },
  {
   "cell_type": "code",
   "execution_count": 155,
   "metadata": {},
   "outputs": [],
   "source": [
    "#unique, counts = np.unique(X_train_ids, return_counts=True)\n",
    "#print(\"unique\",len(unique),\"counts\",len(counts),max(counts),min(counts))\n",
    "#print(list(zip(unique,counts)))\n",
    "#plt.plot(unique,counts)\n",
    "#plt.show()"
   ]
  },
  {
   "cell_type": "markdown",
   "metadata": {},
   "source": [
    "# Modelling:\n",
    "\n",
    "### 1. KNN:\n",
    "Using k-Nearest neighbours for similarity matching."
   ]
  },
  {
   "cell_type": "code",
   "execution_count": 156,
   "metadata": {
    "scrolled": false
   },
   "outputs": [],
   "source": [
    "def euclidianSim(arr1,arr2):\n",
    "    arr1=np.reshape(arr1,(1,))\n",
    "    arr2=np.reshape(arr2,(1,))\n",
    "    diff=arr1-arr2\n",
    "    norm=np.linalg.norm(diff)\n",
    "    return norm\n",
    "\n",
    "def cosineSim(arr1,arr2):\n",
    "    arr1=np.reshape(arr1,(-1,1))\n",
    "    arr2=np.reshape(arr2,(-1,1))\n",
    "    norm1=np.linalg.norm(arr1)\n",
    "    norm2=np.linalg.norm(arr2)\n",
    "    cosineSimilarity=float((np.dot(np.transpose(arr1),arr2))/(norm1*norm2))\n",
    "    return cosineSimilarity\n",
    "    \n",
    "\n",
    "\n",
    "def knn(testImg,trainExamples,trainLabels,K=100,similarityMeasure=\"euclidian\"):\n",
    "    #print(\"Executing KNN for k\",K)\n",
    "    #Club train examples and labels together.\n",
    "    zipped=zip(trainExamples,trainLabels)\n",
    "    prediction=[]\n",
    "    for trainImg,label in zipped:\n",
    "        #sub=np.subtract(trainImg,testImg)\n",
    "        #print(testImg.shape,trainImg.shape,sub.shape)\n",
    "        #sub=np.reshape(sub,(-1,1))\n",
    "        #print(testImg.shape,trainImg.shape,sub.shape)\n",
    "        #fibNorm=np.linalg.norm(sub,ord=\"fro\")\n",
    "        similarity=0\n",
    "        if(similarityMeasure==\"euclidian\"):\n",
    "            similarity=euclidianSim(trainImg,testImg)\n",
    "        elif(similarityMeasure==\"cosine\"):\n",
    "            similarity=cosineSim(trainImg,testImg)\n",
    "        result=(label,similarity)\n",
    "        prediction.append(result)\n",
    "    #Take top-K similarities.\n",
    "    topPrediction=sorted(prediction,key=lambda x: -x[1])[:K]\n",
    "    topIds=[imgID for imgID,sim in topPrediction]\n",
    "    return topIds\n",
    "    #unique,counts=np.unique(topIds,return_counts=True)\n",
    "    #uniqueZipped=list(zip(unique,counts))\n",
    "    #print(uniqueZipped[:3])\n",
    "    #classFreqs=sorted(uniqueZipped, key=lambda x: -x[1])\n",
    "    #top 5 classes\n",
    "    #print(\"top 5 \",classFreqs[:5])\n",
    "    #return classFreqs[:5] #List of tuples(id,count)\n",
    "   \n",
    "\n",
    "def computeBestK(validationImgs,validationLabels,trainExamples,trainLabels,K=100,similarityMeasure=\"euclidian\"):\n",
    "    predictions=[]\n",
    "    totalValidationLen=validationImgs.shape[0]\n",
    "    for i in range(0,totalValidationLen):\n",
    "        validationImg=validationImgs[i]\n",
    "        validationLabel=validationLabels[i]\n",
    "        predictionList=knn(validationImg,trainExamples,trainLabels,K,similarityMeasure)\n",
    "        predictions.append((validationLabel,predictionList))\n",
    "        if(i%100==0):\n",
    "            sys.stdout.write(\"\\nValidated\"+str(i)+\"/\"+str(totalValidationLen)+\"images\")\n",
    "        sys.stdout.write(\".\")\n",
    "    print(\"Validation complete.\")\n",
    "    bestK=0\n",
    "    bestSuccessCount=0\n",
    "    for k in range(5,K,5): \n",
    "        successCount=0\n",
    "        for imgID,predList in predictions:\n",
    "            unique,counts=np.unique(predList[:k],return_counts=True)\n",
    "            uniqueZipped=list(zip(unique,counts))\n",
    "            classFreqs=sorted(uniqueZipped, key=lambda x: -x[1])\n",
    "            topClassID=classFreqs[0][0]\n",
    "            if topClassID==imgID:\n",
    "                successCount += 1\n",
    "        print(\"Accuracy for k=\",k,\"is\",(successCount/totalValidationLen))\n",
    "        if(successCount>bestSuccessCount):\n",
    "            bestSuccessCount=successCount\n",
    "            bestK=k\n",
    "            print(\"K updated to\",bestK)\n",
    "            \n",
    "    #return predictions\n",
    "    return bestK\n",
    "\n",
    "\n"
   ]
  },
  {
   "cell_type": "markdown",
   "metadata": {},
   "source": [
    "Get top K predictions for each training image."
   ]
  },
  {
   "cell_type": "code",
   "execution_count": 157,
   "metadata": {},
   "outputs": [
    {
     "name": "stdout",
     "output_type": "stream",
     "text": [
      "\n",
      "Validated0/9850images....................................................................................................\n",
      "Validated100/9850images....................................................................................................\n",
      "Validated200/9850images....................................................................................................\n",
      "Validated300/9850images....................................................................................................\n",
      "Validated400/9850images....................................................................................................\n",
      "Validated500/9850images....................................................................................................\n",
      "Validated600/9850images....................................................................................................\n",
      "Validated700/9850images....................................................................................................\n",
      "Validated800/9850images....................................................................................................\n",
      "Validated900/9850images....................................................................................................\n",
      "Validated1000/9850images....................................................................................................\n",
      "Validated1100/9850images....................................................................................................\n",
      "Validated1200/9850images....................................................................................................\n",
      "Validated1300/9850images....................................................................................................\n",
      "Validated1400/9850images....................................................................................................\n",
      "Validated1500/9850images....................................................................................................\n",
      "Validated1600/9850images....................................................................................................\n",
      "Validated1700/9850images....................................................................................................\n",
      "Validated1800/9850images....................................................................................................\n",
      "Validated1900/9850images....................................................................................................\n",
      "Validated2000/9850images....................................................................................................\n",
      "Validated2100/9850images....................................................................................................\n",
      "Validated2200/9850images....................................................................................................\n",
      "Validated2300/9850images....................................................................................................\n",
      "Validated2400/9850images....................................................................................................\n",
      "Validated2500/9850images....................................................................................................\n",
      "Validated2600/9850images....................................................................................................\n",
      "Validated2700/9850images....................................................................................................\n",
      "Validated2800/9850images....................................................................................................\n",
      "Validated2900/9850images....................................................................................................\n",
      "Validated3000/9850images....................................................................................................\n",
      "Validated3100/9850images....................................................................................................\n",
      "Validated3200/9850images....................................................................................................\n",
      "Validated3300/9850images....................................................................................................\n",
      "Validated3400/9850images....................................................................................................\n",
      "Validated3500/9850images....................................................................................................\n",
      "Validated3600/9850images....................................................................................................\n",
      "Validated3700/9850images....................................................................................................\n",
      "Validated3800/9850images....................................................................................................\n",
      "Validated3900/9850images....................................................................................................\n",
      "Validated4000/9850images....................................................................................................\n",
      "Validated4100/9850images....................................................................................................\n",
      "Validated4200/9850images....................................................................................................\n",
      "Validated4300/9850images....................................................................................................\n",
      "Validated4400/9850images....................................................................................................\n",
      "Validated4500/9850images....................................................................................................\n",
      "Validated4600/9850images....................................................................................................\n",
      "Validated4700/9850images....................................................................................................\n",
      "Validated4800/9850images....................................................................................................\n",
      "Validated4900/9850images....................................................................................................\n",
      "Validated5000/9850images....................................................................................................\n",
      "Validated5100/9850images....................................................................................................\n",
      "Validated5200/9850images....................................................................................................\n",
      "Validated5300/9850images....................................................................................................\n",
      "Validated5400/9850images....................................................................................................\n",
      "Validated5500/9850images....................................................................................................\n",
      "Validated5600/9850images....................................................................................................\n",
      "Validated5700/9850images....................................................................................................\n",
      "Validated5800/9850images....................................................................................................\n",
      "Validated5900/9850images....................................................................................................\n",
      "Validated6000/9850images....................................................................................................\n",
      "Validated6100/9850images....................................................................................................\n",
      "Validated6200/9850images....................................................................................................\n",
      "Validated6300/9850images....................................................................................................\n",
      "Validated6400/9850images....................................................................................................\n"
     ]
    },
    {
     "name": "stdout",
     "output_type": "stream",
     "text": [
      "Validated6500/9850images....................................................................................................\n",
      "Validated6600/9850images....................................................................................................\n",
      "Validated6700/9850images....................................................................................................\n",
      "Validated6800/9850images....................................................................................................\n",
      "Validated6900/9850images....................................................................................................\n",
      "Validated7000/9850images....................................................................................................\n",
      "Validated7100/9850images....................................................................................................\n",
      "Validated7200/9850images....................................................................................................\n",
      "Validated7300/9850images....................................................................................................\n",
      "Validated7400/9850images....................................................................................................\n",
      "Validated7500/9850images....................................................................................................\n",
      "Validated7600/9850images....................................................................................................\n",
      "Validated7700/9850images....................................................................................................\n",
      "Validated7800/9850images....................................................................................................\n",
      "Validated7900/9850images....................................................................................................\n",
      "Validated8000/9850images....................................................................................................\n",
      "Validated8100/9850images....................................................................................................\n",
      "Validated8200/9850images....................................................................................................\n",
      "Validated8300/9850images....................................................................................................\n",
      "Validated8400/9850images....................................................................................................\n",
      "Validated8500/9850images....................................................................................................\n",
      "Validated8600/9850images....................................................................................................\n",
      "Validated8700/9850images....................................................................................................\n",
      "Validated8800/9850images....................................................................................................\n",
      "Validated8900/9850images....................................................................................................\n",
      "Validated9000/9850images....................................................................................................\n",
      "Validated9100/9850images....................................................................................................\n",
      "Validated9200/9850images....................................................................................................\n",
      "Validated9300/9850images....................................................................................................\n",
      "Validated9400/9850images....................................................................................................\n",
      "Validated9500/9850images....................................................................................................\n",
      "Validated9600/9850images....................................................................................................\n",
      "Validated9700/9850images....................................................................................................\n",
      "Validated9800/9850images..................................................Validation complete.\n",
      "Accuracy for k= 5 is 0.28446700507614214\n",
      "K updated to 5\n",
      "Accuracy for k= 10 is 0.18771573604060915\n",
      "Accuracy for k= 15 is 0.14883248730964466\n",
      "Accuracy for k= 20 is 0.1284263959390863\n",
      "Accuracy for k= 25 is 0.11482233502538071\n",
      "Accuracy for k= 30 is 0.10649746192893401\n",
      "Accuracy for k= 35 is 0.1001015228426396\n",
      "Accuracy for k= 40 is 0.09228426395939086\n",
      "Accuracy for k= 45 is 0.08893401015228426\n",
      "Accuracy for k= 50 is 0.08629441624365482\n",
      "Accuracy for k= 55 is 0.08649746192893401\n",
      "Accuracy for k= 60 is 0.08588832487309644\n",
      "Accuracy for k= 65 is 0.08538071065989848\n",
      "Accuracy for k= 70 is 0.08527918781725888\n",
      "Accuracy for k= 75 is 0.08548223350253807\n",
      "Accuracy for k= 80 is 0.08395939086294417\n",
      "Accuracy for k= 85 is 0.08345177664974619\n",
      "Accuracy for k= 90 is 0.08355329949238578\n",
      "Accuracy for k= 95 is 0.08263959390862945\n",
      "Accuracy for k= 100 is 0.08263959390862945\n",
      "Accuracy for k= 105 is 0.08233502538071066\n",
      "Accuracy for k= 110 is 0.08233502538071066\n",
      "Accuracy for k= 115 is 0.08243654822335025\n",
      "Accuracy for k= 120 is 0.08233502538071066\n",
      "Accuracy for k= 125 is 0.08253807106598984\n",
      "Accuracy for k= 130 is 0.08243654822335025\n",
      "Accuracy for k= 135 is 0.08233502538071066\n",
      "Accuracy for k= 140 is 0.08233502538071066\n",
      "Accuracy for k= 145 is 0.08243654822335025\n",
      "Accuracy for k= 150 is 0.08243654822335025\n",
      "Accuracy for k= 155 is 0.08233502538071066\n",
      "Accuracy for k= 160 is 0.08233502538071066\n",
      "Accuracy for k= 165 is 0.08233502538071066\n",
      "Accuracy for k= 170 is 0.08223350253807106\n",
      "Accuracy for k= 175 is 0.08223350253807106\n",
      "Accuracy for k= 180 is 0.08223350253807106\n",
      "Accuracy for k= 185 is 0.08223350253807106\n",
      "Accuracy for k= 190 is 0.08223350253807106\n",
      "Accuracy for k= 195 is 0.08223350253807106\n",
      "Accuracy for k= 200 is 0.08223350253807106\n",
      "Accuracy for k= 205 is 0.08223350253807106\n",
      "Accuracy for k= 210 is 0.08223350253807106\n",
      "Accuracy for k= 215 is 0.08223350253807106\n",
      "Accuracy for k= 220 is 0.08223350253807106\n",
      "Accuracy for k= 225 is 0.08223350253807106\n",
      "Accuracy for k= 230 is 0.08223350253807106\n",
      "Accuracy for k= 235 is 0.08223350253807106\n",
      "Accuracy for k= 240 is 0.08223350253807106\n",
      "Accuracy for k= 245 is 0.08223350253807106\n",
      "Accuracy for k= 250 is 0.08223350253807106\n",
      "Accuracy for k= 255 is 0.08223350253807106\n",
      "Accuracy for k= 260 is 0.08223350253807106\n",
      "Accuracy for k= 265 is 0.08223350253807106\n",
      "Accuracy for k= 270 is 0.08223350253807106\n",
      "Accuracy for k= 275 is 0.08223350253807106\n",
      "Accuracy for k= 280 is 0.08223350253807106\n",
      "Accuracy for k= 285 is 0.08223350253807106\n",
      "Accuracy for k= 290 is 0.08223350253807106\n",
      "Accuracy for k= 295 is 0.08223350253807106\n",
      "Accuracy for k= 300 is 0.08223350253807106\n",
      "Accuracy for k= 305 is 0.08223350253807106\n",
      "Accuracy for k= 310 is 0.08223350253807106\n",
      "Accuracy for k= 315 is 0.08223350253807106\n",
      "Accuracy for k= 320 is 0.08223350253807106\n",
      "Accuracy for k= 325 is 0.08223350253807106\n",
      "Accuracy for k= 330 is 0.08223350253807106\n",
      "Accuracy for k= 335 is 0.08223350253807106\n",
      "Accuracy for k= 340 is 0.08223350253807106\n",
      "Accuracy for k= 345 is 0.08223350253807106\n",
      "Accuracy for k= 350 is 0.08223350253807106\n",
      "Accuracy for k= 355 is 0.08223350253807106\n",
      "Accuracy for k= 360 is 0.08223350253807106\n",
      "Accuracy for k= 365 is 0.08223350253807106\n",
      "Accuracy for k= 370 is 0.08223350253807106\n",
      "Accuracy for k= 375 is 0.08223350253807106\n",
      "Accuracy for k= 380 is 0.08223350253807106\n",
      "Accuracy for k= 385 is 0.08223350253807106\n",
      "Accuracy for k= 390 is 0.08223350253807106\n",
      "Accuracy for k= 395 is 0.08223350253807106\n",
      "Accuracy for k= 400 is 0.08223350253807106\n",
      "Accuracy for k= 405 is 0.08223350253807106\n",
      "Accuracy for k= 410 is 0.08223350253807106\n",
      "Accuracy for k= 415 is 0.08223350253807106\n",
      "Accuracy for k= 420 is 0.08223350253807106\n",
      "Accuracy for k= 425 is 0.08223350253807106\n",
      "Accuracy for k= 430 is 0.08223350253807106\n",
      "Accuracy for k= 435 is 0.08223350253807106\n",
      "Accuracy for k= 440 is 0.08223350253807106\n",
      "Accuracy for k= 445 is 0.08223350253807106\n",
      "Accuracy for k= 450 is 0.08223350253807106\n",
      "Accuracy for k= 455 is 0.08223350253807106\n",
      "Accuracy for k= 460 is 0.08223350253807106\n",
      "Accuracy for k= 465 is 0.08223350253807106\n"
     ]
    },
    {
     "name": "stdout",
     "output_type": "stream",
     "text": [
      "Accuracy for k= 470 is 0.08223350253807106\n",
      "Accuracy for k= 475 is 0.08223350253807106\n",
      "Accuracy for k= 480 is 0.08223350253807106\n",
      "Accuracy for k= 485 is 0.08223350253807106\n",
      "Accuracy for k= 490 is 0.08223350253807106\n",
      "Accuracy for k= 495 is 0.08223350253807106\n",
      "Accuracy for k= 500 is 0.08223350253807106\n",
      "Accuracy for k= 505 is 0.08223350253807106\n",
      "Accuracy for k= 510 is 0.08223350253807106\n",
      "Accuracy for k= 515 is 0.08223350253807106\n",
      "Accuracy for k= 520 is 0.08223350253807106\n",
      "Accuracy for k= 525 is 0.08223350253807106\n",
      "Accuracy for k= 530 is 0.08223350253807106\n",
      "Accuracy for k= 535 is 0.08223350253807106\n",
      "Accuracy for k= 540 is 0.08223350253807106\n",
      "Accuracy for k= 545 is 0.08223350253807106\n",
      "Accuracy for k= 550 is 0.08223350253807106\n",
      "Accuracy for k= 555 is 0.08223350253807106\n",
      "Accuracy for k= 560 is 0.08223350253807106\n",
      "Accuracy for k= 565 is 0.08223350253807106\n",
      "Accuracy for k= 570 is 0.08223350253807106\n",
      "Accuracy for k= 575 is 0.08223350253807106\n",
      "Accuracy for k= 580 is 0.08223350253807106\n",
      "Accuracy for k= 585 is 0.08223350253807106\n",
      "Accuracy for k= 590 is 0.08223350253807106\n",
      "Accuracy for k= 595 is 0.08223350253807106\n",
      "Accuracy for k= 600 is 0.08223350253807106\n",
      "Accuracy for k= 605 is 0.08223350253807106\n",
      "Accuracy for k= 610 is 0.08223350253807106\n",
      "Accuracy for k= 615 is 0.08223350253807106\n",
      "Accuracy for k= 620 is 0.08223350253807106\n",
      "Accuracy for k= 625 is 0.08223350253807106\n",
      "Accuracy for k= 630 is 0.08223350253807106\n",
      "Accuracy for k= 635 is 0.08223350253807106\n",
      "Accuracy for k= 640 is 0.08223350253807106\n",
      "Accuracy for k= 645 is 0.08223350253807106\n",
      "Accuracy for k= 650 is 0.08223350253807106\n",
      "Accuracy for k= 655 is 0.08223350253807106\n",
      "Accuracy for k= 660 is 0.08223350253807106\n",
      "Accuracy for k= 665 is 0.08223350253807106\n",
      "Accuracy for k= 670 is 0.08223350253807106\n",
      "Accuracy for k= 675 is 0.08223350253807106\n",
      "Accuracy for k= 680 is 0.08223350253807106\n",
      "Accuracy for k= 685 is 0.08223350253807106\n",
      "Accuracy for k= 690 is 0.08223350253807106\n",
      "Accuracy for k= 695 is 0.08223350253807106\n",
      "Accuracy for k= 700 is 0.08223350253807106\n",
      "Accuracy for k= 705 is 0.08223350253807106\n",
      "Accuracy for k= 710 is 0.08223350253807106\n",
      "Accuracy for k= 715 is 0.08223350253807106\n",
      "Accuracy for k= 720 is 0.08223350253807106\n",
      "Accuracy for k= 725 is 0.08223350253807106\n",
      "Accuracy for k= 730 is 0.08223350253807106\n",
      "Accuracy for k= 735 is 0.08223350253807106\n",
      "Accuracy for k= 740 is 0.08223350253807106\n",
      "Accuracy for k= 745 is 0.08223350253807106\n",
      "Accuracy for k= 750 is 0.08223350253807106\n",
      "Accuracy for k= 755 is 0.08223350253807106\n",
      "Accuracy for k= 760 is 0.08223350253807106\n",
      "Accuracy for k= 765 is 0.08223350253807106\n",
      "Accuracy for k= 770 is 0.08223350253807106\n",
      "Accuracy for k= 775 is 0.08223350253807106\n",
      "Accuracy for k= 780 is 0.08223350253807106\n",
      "Accuracy for k= 785 is 0.08223350253807106\n",
      "Accuracy for k= 790 is 0.08223350253807106\n",
      "Accuracy for k= 795 is 0.08223350253807106\n",
      "Accuracy for k= 800 is 0.08223350253807106\n",
      "Accuracy for k= 805 is 0.08223350253807106\n",
      "Accuracy for k= 810 is 0.08223350253807106\n",
      "Accuracy for k= 815 is 0.08223350253807106\n",
      "Accuracy for k= 820 is 0.08223350253807106\n",
      "Accuracy for k= 825 is 0.08223350253807106\n",
      "Accuracy for k= 830 is 0.08223350253807106\n",
      "Accuracy for k= 835 is 0.08223350253807106\n",
      "Accuracy for k= 840 is 0.08223350253807106\n",
      "Accuracy for k= 845 is 0.08223350253807106\n",
      "Accuracy for k= 850 is 0.08223350253807106\n",
      "Accuracy for k= 855 is 0.08223350253807106\n",
      "Accuracy for k= 860 is 0.08223350253807106\n",
      "Accuracy for k= 865 is 0.08223350253807106\n",
      "Accuracy for k= 870 is 0.08223350253807106\n",
      "Accuracy for k= 875 is 0.08223350253807106\n",
      "Accuracy for k= 880 is 0.08223350253807106\n",
      "Accuracy for k= 885 is 0.08223350253807106\n",
      "Accuracy for k= 890 is 0.08223350253807106\n",
      "Accuracy for k= 895 is 0.08223350253807106\n",
      "Accuracy for k= 900 is 0.08223350253807106\n",
      "Accuracy for k= 905 is 0.08223350253807106\n",
      "Accuracy for k= 910 is 0.08223350253807106\n",
      "Accuracy for k= 915 is 0.08223350253807106\n",
      "Accuracy for k= 920 is 0.08223350253807106\n",
      "Accuracy for k= 925 is 0.08223350253807106\n",
      "Accuracy for k= 930 is 0.08223350253807106\n",
      "Accuracy for k= 935 is 0.08223350253807106\n",
      "Accuracy for k= 940 is 0.08223350253807106\n",
      "Accuracy for k= 945 is 0.08223350253807106\n",
      "Accuracy for k= 950 is 0.08223350253807106\n",
      "Accuracy for k= 955 is 0.08223350253807106\n",
      "Accuracy for k= 960 is 0.08223350253807106\n",
      "Accuracy for k= 965 is 0.08223350253807106\n",
      "Accuracy for k= 970 is 0.08223350253807106\n",
      "Accuracy for k= 975 is 0.08223350253807106\n",
      "Accuracy for k= 980 is 0.08223350253807106\n",
      "Accuracy for k= 985 is 0.08223350253807106\n",
      "Accuracy for k= 990 is 0.08223350253807106\n",
      "Accuracy for k= 995 is 0.08223350253807106\n"
     ]
    }
   ],
   "source": [
    "X_train=X_train_pooled\n",
    "X_test=X_test_pooled\n",
    "similarity_measure=\"cosine\"\n",
    "\n",
    "#Get top neighbours for each train image.\n",
    "k=computeBestK(X_train,X_train_ids,X_train,X_train_ids,K=1000,similarityMeasure=similarity_measure)\n",
    "\n",
    "#iterations=10\n",
    "#for i in range(0,10):\n",
    "#    indicies=list(range(0,X_train.shape[0]))\n",
    "#    random.shuffle(indicies)\n",
    "\n",
    "    #testPercent=0.2\n",
    "    #testSize=int(X_train.shape[0]*testPercent)\n",
    "#    validationSize=1000\n",
    "    #print(testSize)\n",
    "#    X_valid_imgs=X_train[indicies[0:validationSize]]\n",
    "#    X_valid_ids=X_train_ids[indicies[0:validationSize]]\n",
    "\n",
    "#    print(X_valid_imgs.shape,X_valid_ids.shape)\n",
    "#    validationPredictions=computeTopKPredictions(X_valid_imgs,X_valid_ids,X_train,X_train_ids,K=1000)"
   ]
  },
  {
   "cell_type": "code",
   "execution_count": 158,
   "metadata": {},
   "outputs": [
    {
     "name": "stdout",
     "output_type": "stream",
     "text": [
      "bestK 5\n"
     ]
    }
   ],
   "source": [
    "print(\"bestK\",k)"
   ]
  },
  {
   "cell_type": "code",
   "execution_count": 159,
   "metadata": {
    "scrolled": true
   },
   "outputs": [
    {
     "name": "stdout",
     "output_type": "stream",
     "text": [
      "Evaluated 100 / 15610 test examples.\n",
      "Evaluated 200 / 15610 test examples.\n",
      "Evaluated 300 / 15610 test examples.\n",
      "Evaluated 400 / 15610 test examples.\n",
      "Evaluated 500 / 15610 test examples.\n",
      "Evaluated 600 / 15610 test examples.\n",
      "Evaluated 700 / 15610 test examples.\n",
      "Evaluated 800 / 15610 test examples.\n",
      "Evaluated 900 / 15610 test examples.\n",
      "Evaluated 1000 / 15610 test examples.\n",
      "Evaluated 1100 / 15610 test examples.\n",
      "Evaluated 1200 / 15610 test examples.\n",
      "Evaluated 1300 / 15610 test examples.\n",
      "Evaluated 1400 / 15610 test examples.\n",
      "Evaluated 1500 / 15610 test examples.\n",
      "Evaluated 1600 / 15610 test examples.\n",
      "Evaluated 1700 / 15610 test examples.\n",
      "Evaluated 1800 / 15610 test examples.\n",
      "Evaluated 1900 / 15610 test examples.\n",
      "Evaluated 2000 / 15610 test examples.\n",
      "Evaluated 2100 / 15610 test examples.\n",
      "Evaluated 2200 / 15610 test examples.\n",
      "Evaluated 2300 / 15610 test examples.\n",
      "Evaluated 2400 / 15610 test examples.\n",
      "Evaluated 2500 / 15610 test examples.\n",
      "Evaluated 2600 / 15610 test examples.\n",
      "Evaluated 2700 / 15610 test examples.\n",
      "Evaluated 2800 / 15610 test examples.\n",
      "Evaluated 2900 / 15610 test examples.\n",
      "Evaluated 3000 / 15610 test examples.\n",
      "Evaluated 3100 / 15610 test examples.\n",
      "Evaluated 3200 / 15610 test examples.\n",
      "Evaluated 3300 / 15610 test examples.\n",
      "Evaluated 3400 / 15610 test examples.\n",
      "Evaluated 3500 / 15610 test examples.\n",
      "Evaluated 3600 / 15610 test examples.\n",
      "Evaluated 3700 / 15610 test examples.\n",
      "Evaluated 3800 / 15610 test examples.\n",
      "Evaluated 3900 / 15610 test examples.\n",
      "Evaluated 4000 / 15610 test examples.\n",
      "Evaluated 4100 / 15610 test examples.\n",
      "Evaluated 4200 / 15610 test examples.\n",
      "Evaluated 4300 / 15610 test examples.\n",
      "Evaluated 4400 / 15610 test examples.\n",
      "Evaluated 4500 / 15610 test examples.\n",
      "Evaluated 4600 / 15610 test examples.\n",
      "Evaluated 4700 / 15610 test examples.\n",
      "Evaluated 4800 / 15610 test examples.\n",
      "Evaluated 4900 / 15610 test examples.\n",
      "Evaluated 5000 / 15610 test examples.\n",
      "Evaluated 5100 / 15610 test examples.\n",
      "Evaluated 5200 / 15610 test examples.\n",
      "Evaluated 5300 / 15610 test examples.\n",
      "Evaluated 5400 / 15610 test examples.\n",
      "Evaluated 5500 / 15610 test examples.\n",
      "Evaluated 5600 / 15610 test examples.\n",
      "Evaluated 5700 / 15610 test examples.\n",
      "Evaluated 5800 / 15610 test examples.\n",
      "Evaluated 5900 / 15610 test examples.\n",
      "Evaluated 6000 / 15610 test examples.\n",
      "Evaluated 6100 / 15610 test examples.\n",
      "Evaluated 6200 / 15610 test examples.\n",
      "Evaluated 6300 / 15610 test examples.\n",
      "Evaluated 6400 / 15610 test examples.\n",
      "Evaluated 6500 / 15610 test examples.\n",
      "Evaluated 6600 / 15610 test examples.\n",
      "Evaluated 6700 / 15610 test examples.\n",
      "Evaluated 6800 / 15610 test examples.\n",
      "Evaluated 6900 / 15610 test examples.\n",
      "Evaluated 7000 / 15610 test examples.\n",
      "Evaluated 7100 / 15610 test examples.\n",
      "Evaluated 7200 / 15610 test examples.\n",
      "Evaluated 7300 / 15610 test examples.\n",
      "Evaluated 7400 / 15610 test examples.\n",
      "Evaluated 7500 / 15610 test examples.\n",
      "Evaluated 7600 / 15610 test examples.\n",
      "Evaluated 7700 / 15610 test examples.\n",
      "Evaluated 7800 / 15610 test examples.\n",
      "Evaluated 7900 / 15610 test examples.\n",
      "Evaluated 8000 / 15610 test examples.\n",
      "Evaluated 8100 / 15610 test examples.\n",
      "Evaluated 8200 / 15610 test examples.\n",
      "Evaluated 8300 / 15610 test examples.\n",
      "Evaluated 8400 / 15610 test examples.\n",
      "Evaluated 8500 / 15610 test examples.\n",
      "Evaluated 8600 / 15610 test examples.\n",
      "Evaluated 8700 / 15610 test examples.\n",
      "Evaluated 8800 / 15610 test examples.\n",
      "Evaluated 8900 / 15610 test examples.\n",
      "Evaluated 9000 / 15610 test examples.\n",
      "Evaluated 9100 / 15610 test examples.\n",
      "Evaluated 9200 / 15610 test examples.\n",
      "Evaluated 9300 / 15610 test examples.\n",
      "Evaluated 9400 / 15610 test examples.\n",
      "Evaluated 9500 / 15610 test examples.\n",
      "Evaluated 9600 / 15610 test examples.\n",
      "Evaluated 9700 / 15610 test examples.\n",
      "Evaluated 9800 / 15610 test examples.\n",
      "Evaluated 9900 / 15610 test examples.\n",
      "Evaluated 10000 / 15610 test examples.\n",
      "Evaluated 10100 / 15610 test examples.\n",
      "Evaluated 10200 / 15610 test examples.\n",
      "Evaluated 10300 / 15610 test examples.\n",
      "Evaluated 10400 / 15610 test examples.\n",
      "Evaluated 10500 / 15610 test examples.\n",
      "Evaluated 10600 / 15610 test examples.\n",
      "Evaluated 10700 / 15610 test examples.\n",
      "Evaluated 10800 / 15610 test examples.\n",
      "Evaluated 10900 / 15610 test examples.\n",
      "Evaluated 11000 / 15610 test examples.\n",
      "Evaluated 11100 / 15610 test examples.\n",
      "Evaluated 11200 / 15610 test examples.\n",
      "Evaluated 11300 / 15610 test examples.\n",
      "Evaluated 11400 / 15610 test examples.\n",
      "Evaluated 11500 / 15610 test examples.\n",
      "Evaluated 11600 / 15610 test examples.\n",
      "Evaluated 11700 / 15610 test examples.\n",
      "Evaluated 11800 / 15610 test examples.\n",
      "Evaluated 11900 / 15610 test examples.\n",
      "Evaluated 12000 / 15610 test examples.\n",
      "Evaluated 12100 / 15610 test examples.\n",
      "Evaluated 12200 / 15610 test examples.\n",
      "Evaluated 12300 / 15610 test examples.\n",
      "Evaluated 12400 / 15610 test examples.\n",
      "Evaluated 12500 / 15610 test examples.\n",
      "Evaluated 12600 / 15610 test examples.\n",
      "Evaluated 12700 / 15610 test examples.\n",
      "Evaluated 12800 / 15610 test examples.\n",
      "Evaluated 12900 / 15610 test examples.\n",
      "Evaluated 13000 / 15610 test examples.\n",
      "Evaluated 13100 / 15610 test examples.\n",
      "Evaluated 13200 / 15610 test examples.\n",
      "Evaluated 13300 / 15610 test examples.\n",
      "Evaluated 13400 / 15610 test examples.\n",
      "Evaluated 13500 / 15610 test examples.\n",
      "Evaluated 13600 / 15610 test examples.\n",
      "Evaluated 13700 / 15610 test examples.\n",
      "Evaluated 13800 / 15610 test examples.\n",
      "Evaluated 13900 / 15610 test examples.\n",
      "Evaluated 14000 / 15610 test examples.\n",
      "Evaluated 14100 / 15610 test examples.\n",
      "Evaluated 14200 / 15610 test examples.\n",
      "Evaluated 14300 / 15610 test examples.\n",
      "Evaluated 14400 / 15610 test examples.\n",
      "Evaluated 14500 / 15610 test examples.\n",
      "Evaluated 14600 / 15610 test examples.\n",
      "Evaluated 14700 / 15610 test examples.\n",
      "Evaluated 14800 / 15610 test examples.\n",
      "Evaluated 14900 / 15610 test examples.\n",
      "Evaluated 15000 / 15610 test examples.\n",
      "Evaluated 15100 / 15610 test examples.\n",
      "Evaluated 15200 / 15610 test examples.\n",
      "Evaluated 15300 / 15610 test examples.\n",
      "Evaluated 15400 / 15610 test examples.\n",
      "Evaluated 15500 / 15610 test examples.\n",
      "Evaluated 15600 / 15610 test examples.\n",
      "Output written to file  /home/rajeev/Documents/DataSets/Kaggle/Whale/actual_submission.csv\n"
     ]
    }
   ],
   "source": [
    "\n",
    "bestK=10\n",
    "\n",
    "\n",
    "testData=list(zip(X_test,X_test_labels))\n",
    "#print(int_to_id)\n",
    "rows=[\"Image,Id\"]\n",
    "rowCount=0\n",
    "totalRows=len(testData)\n",
    "for testImg,label in testData:\n",
    "    topIds=knn(testImg,X_train,X_train_ids,bestK,similarityMeasure=similarity_measure)\n",
    "    unique,counts=np.unique(topIds[:bestK],return_counts=True)\n",
    "    uniqueZipped=list(zip(unique,counts))\n",
    "    classFreqs=sorted(uniqueZipped, key=lambda x: -x[1])\n",
    "    classIntIDs=[int_to_id[classIntID] for classIntID,count in classFreqs[:5]]\n",
    "    \n",
    "    \n",
    "    #topClassID=classFreqs[0][0]\n",
    "    #result1=[int_to_id[imgID] for imgID,_ in result]\n",
    "    classes=\" \".join(classIntIDs)\n",
    "    row=label+\",\"+classes\n",
    "    #print(row)\n",
    "    rows.append(row)\n",
    "    rowCount+=1\n",
    "    if(rowCount%100==0):\n",
    "        print(\"Evaluated\",rowCount,\"/\",totalRows,\"test examples.\")\n",
    "    \n",
    "submissionFile=\"/home/rajeev/Documents/DataSets/Kaggle/Whale/actual_submission.csv\"\n",
    "\n",
    "try:\n",
    "    os.remove(submissionFile)\n",
    "except OSError:\n",
    "    print(OSError)\n",
    "    pass\n",
    "\n",
    "\n",
    "with open(submissionFile, mode=\"wt\", encoding=\"utf-8\") as myFile:\n",
    "    myFile.write(\"\\n\".join(rows))\n",
    "print(\"Output written to file \",submissionFile)\n",
    "#for testImg in X_test:    \n",
    "#    knn(testImg,X_train)\n",
    "\n",
    "#lst=[(1,0.5),(1,2.5),(2,5),(2,0.005)]\n",
    "#lst=sorted(lst,key=lambda x: -x[1])\n",
    "#print(lst)\n"
   ]
  }
 ],
 "metadata": {
  "kernelspec": {
   "display_name": "Python 3",
   "language": "python",
   "name": "python3"
  },
  "language_info": {
   "codemirror_mode": {
    "name": "ipython",
    "version": 3
   },
   "file_extension": ".py",
   "mimetype": "text/x-python",
   "name": "python",
   "nbconvert_exporter": "python",
   "pygments_lexer": "ipython3",
   "version": "3.5.2"
  }
 },
 "nbformat": 4,
 "nbformat_minor": 2
}
